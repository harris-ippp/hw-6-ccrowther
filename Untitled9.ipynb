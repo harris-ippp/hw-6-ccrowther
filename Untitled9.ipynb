{
 "cells": [
  {
   "cell_type": "code",
   "execution_count": 2,
   "metadata": {
    "collapsed": true
   },
   "outputs": [],
   "source": [
    "import requests\n",
    "from bs4 import BeautifulSoup as bs\n",
    "import pandas as pd\n",
    "from selenium import webdriver\n",
    "\n",
    "#address to scrape\n",
    "addr = \"http://historical.elections.virginia.gov/elections/search/year_from:1924/year_to:2016/office_id:1/stage:General\"\n",
    "resp = requests.get(addr)\n",
    "html = resp.content\n",
    "soup = bs(html, \"html.parser\")\n",
    "\n",
    "electionID = []\n",
    "temp = []\n",
    "\n",
    "for rows in soup.find_all(['tr', 'td']):\n",
    "    ID = rows.get('id')\n",
    "    year = rows.find('td', {\"class\": \"year first\"})\n",
    "\n",
    "    id_year = [year, ID]\n",
    "\n",
    "    temp.append(id_year)\n",
    "\n",
    "for k in range(0, len(temp)):\n",
    "    if temp[k][0] != None:\n",
    "        electionID.append(temp[k])\n",
    "\n",
    "for l in range(0, len(electionID)):\n",
    "    electionID_year = electionID[l][0]\n",
    "    year = electionID_year.text\n",
    "    electionID_id = electionID[l][1].replace(\"election-id-\", \"\")\n",
    "    to_push = [year, electionID_id]\n",
    "    electionID[l] = to_push\n",
    "\n",
    "for m in range(0, len(electionID)):\n",
    "    year = electionID[m][0]\n",
    "    file = year +'.csv'\n",
    "    ID = str(electionID[m][1])\n",
    "    link = 'http://historical.elections.virginia.gov/elections/download/%s/precincts_include:0/'%ID\n",
    "    resp = requests.get(link)\n",
    "    with open(file, \"w\") as my_csv:\n",
    "        my_csv.write(resp.text)"
   ]
  },
  {
   "cell_type": "code",
   "execution_count": null,
   "metadata": {
    "collapsed": true
   },
   "outputs": [],
   "source": [
    "\n",
    "\n",
    "header = pd.read_csv(\"president_general_2004.csv\", nrows = 1).dropna(axis = 1)\n",
    "d = header.iloc[0].to_dict()\n",
    "\n",
    "df = pd.read_csv(\"president_general_2004.csv\", index_col = 0,\n",
    "               thousands = \",\", skiprows = [1])\n",
    "\n",
    "df.rename(inplace = True, columns = d) # rename to democrat/republican\n",
    "df.dropna(inplace = True, axis = 1)    # drop empty columns\n",
    "df[\"Year\"] = 2004"
   ]
  }
 ],
 "metadata": {
  "kernelspec": {
   "display_name": "Python 3",
   "language": "python",
   "name": "python3"
  },
  "language_info": {
   "codemirror_mode": {
    "name": "ipython",
    "version": 3
   },
   "file_extension": ".py",
   "mimetype": "text/x-python",
   "name": "python",
   "nbconvert_exporter": "python",
   "pygments_lexer": "ipython3",
   "version": "3.6.2"
  }
 },
 "nbformat": 4,
 "nbformat_minor": 2
}
