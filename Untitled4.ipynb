{
 "cells": [
  {
   "cell_type": "code",
   "execution_count": 4,
   "metadata": {},
   "outputs": [
    {
     "ename": "NameError",
     "evalue": "name 'requests' is not defined",
     "output_type": "error",
     "traceback": [
      "\u001b[0;31m---------------------------------------------------------------------------\u001b[0m",
      "\u001b[0;31mNameError\u001b[0m                                 Traceback (most recent call last)",
      "\u001b[0;32m<ipython-input-4-a5bd6cf9f28d>\u001b[0m in \u001b[0;36m<module>\u001b[0;34m()\u001b[0m\n\u001b[1;32m      5\u001b[0m \u001b[0;31m#address to scrape\u001b[0m\u001b[0;34m\u001b[0m\u001b[0;34m\u001b[0m\u001b[0m\n\u001b[1;32m      6\u001b[0m \u001b[0maddr\u001b[0m \u001b[0;34m=\u001b[0m \u001b[0;34m\"http://historical.elections.virginia.gov/elections/search/year_from:1924/year_to:2016/office_id:1/stage:General\"\u001b[0m\u001b[0;34m\u001b[0m\u001b[0m\n\u001b[0;32m----> 7\u001b[0;31m \u001b[0mresp\u001b[0m \u001b[0;34m=\u001b[0m \u001b[0mrequests\u001b[0m\u001b[0;34m.\u001b[0m\u001b[0mget\u001b[0m\u001b[0;34m(\u001b[0m\u001b[0maddr\u001b[0m\u001b[0;34m)\u001b[0m\u001b[0;34m\u001b[0m\u001b[0m\n\u001b[0m\u001b[1;32m      8\u001b[0m \u001b[0mhtml\u001b[0m \u001b[0;34m=\u001b[0m \u001b[0mresp\u001b[0m\u001b[0;34m.\u001b[0m\u001b[0mcontent\u001b[0m\u001b[0;34m\u001b[0m\u001b[0m\n\u001b[1;32m      9\u001b[0m \u001b[0msoup\u001b[0m \u001b[0;34m=\u001b[0m \u001b[0mbs\u001b[0m\u001b[0;34m(\u001b[0m\u001b[0mhtml\u001b[0m\u001b[0;34m,\u001b[0m \u001b[0;34m\"html.parser\"\u001b[0m\u001b[0;34m)\u001b[0m\u001b[0;34m\u001b[0m\u001b[0m\n",
      "\u001b[0;31mNameError\u001b[0m: name 'requests' is not defined"
     ]
    }
   ],
   "source": [
    "from bs4 import BeautifulSoup as bs\n",
    "import pandas as pd\n",
    "from selenium import webdriver\n",
    "\n",
    "#address to scrape\n",
    "addr = \"http://historical.elections.virginia.gov/elections/search/year_from:1924/year_to:2016/office_id:1/stage:General\"\n",
    "resp = requests.get(addr)\n",
    "html = resp.content\n",
    "soup = bs(html, \"html.parser\")\n",
    "\n",
    "electionID = []\n",
    "temp = []\n",
    "\n",
    "for rows in soup.find_all(['tr', 'td']):\n",
    "    ID = rows.get('id')\n",
    "    year = rows.find('td', {\"class\": \"year first\"})\n",
    "\n",
    "    id_year = [year, ID]\n",
    "\n",
    "    temp.append(id_year)\n",
    "\n",
    "for k in range(0, len(temp)):\n",
    "    if temp[k][0] != None:\n",
    "        electionID.append(temp[k])\n",
    "\n",
    "for l in range(0, len(electionID)):\n",
    "    electionID_year = electionID[l][0]\n",
    "    year = electionID_year.text\n",
    "    electionID_id = electionID[l][1].replace(\"election-id-\", \"\")\n",
    "    to_push = [year, electionID_id]\n",
    "    electionID[l] = to_push\n",
    "\n",
    "for m in range(0, len(electionID)):\n",
    "\n",
    "    year = electionID[m][0]\n",
    "    file = year + '.csv'\n",
    "    ID = str(electionID[m][1])\n",
    "    link = 'http://historical.elections.virginia.gov/elections/download/%s/precincts_include:0/'%ID\n",
    "    resp_csv = requests.get(link)\n",
    "\n",
    "    print(resp_csv)\n",
    "    with open(file, \"w\") as my_csv:\n",
    "        my_csv.write(resp.text)"
   ]
  },
  {
   "cell_type": "code",
   "execution_count": null,
   "metadata": {
    "collapsed": true
   },
   "outputs": [],
   "source": []
  }
 ],
 "metadata": {
  "kernelspec": {
   "display_name": "Python 3",
   "language": "python",
   "name": "python3"
  },
  "language_info": {
   "codemirror_mode": {
    "name": "ipython",
    "version": 3
   },
   "file_extension": ".py",
   "mimetype": "text/x-python",
   "name": "python",
   "nbconvert_exporter": "python",
   "pygments_lexer": "ipython3",
   "version": "3.6.2"
  }
 },
 "nbformat": 4,
 "nbformat_minor": 2
}
