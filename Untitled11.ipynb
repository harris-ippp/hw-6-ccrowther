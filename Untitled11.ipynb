{
 "cells": [
  {
   "cell_type": "code",
   "execution_count": 1,
   "metadata": {},
   "outputs": [
    {
     "name": "stdout",
     "output_type": "stream",
     "text": [
      "[['2016', '80871'], ['2012', '44930'], ['2008', '39050'], ['2004', '41055'], ['2000', '39517'], ['1996', '34787'], ['1992', '47275'], ['1988', '48618'], ['1984', '47846'], ['1980', '48204'], ['1976', '48411'], ['1972', '48591'], ['1968', '78816'], ['1964', '78861'], ['1960', '79121'], ['1956', '79293'], ['1952', '79455'], ['1948', '79419'], ['1944', '79390'], ['1940', '79369'], ['1936', '79343'], ['1932', '79326'], ['1928', '79248'], ['1924', '79250']]\n"
     ]
    }
   ],
   "source": [
    "import requests\n",
    "from bs4 import BeautifulSoup as bs\n",
    "import pandas as pd\n",
    "from selenium import webdriver\n",
    "\n",
    "#address to scrape\n",
    "addr = \"http://historical.elections.virginia.gov/elections/search/year_from:1924/year_to:2016/office_id:1/stage:General\"\n",
    "resp = requests.get(addr)\n",
    "html = resp.content\n",
    "soup = bs(html, \"html.parser\")\n",
    "\n",
    "electionID = []\n",
    "temp = []\n",
    "\n",
    "for rows in soup.find_all(['tr', 'td']):\n",
    "    ID = rows.get('id')\n",
    "    year = rows.find('td', {\"class\": \"year first\"})\n",
    "\n",
    "    id_year = [year, ID]\n",
    "\n",
    "    temp.append(id_year)\n",
    "\n",
    "for k in range(0, len(temp)):\n",
    "    if temp[k][0] != None:\n",
    "        electionID.append(temp[k])\n",
    "\n",
    "#print(electionID)\n",
    "\n",
    "for l in range(0, len(electionID)):\n",
    "    electionID_year = electionID[l][0]\n",
    "    year = electionID_year.text\n",
    "    electionID_id = electionID[l][1].replace(\"election-id-\", \"\")\n",
    "    to_push = [year, electionID_id]\n",
    "    electionID[l] = to_push\n",
    "\n",
    "print(electionID)"
   ]
  },
  {
   "cell_type": "code",
   "execution_count": null,
   "metadata": {
    "collapsed": true
   },
   "outputs": [],
   "source": []
  }
 ],
 "metadata": {
  "kernelspec": {
   "display_name": "Python 3",
   "language": "python",
   "name": "python3"
  },
  "language_info": {
   "codemirror_mode": {
    "name": "ipython",
    "version": 3
   },
   "file_extension": ".py",
   "mimetype": "text/x-python",
   "name": "python",
   "nbconvert_exporter": "python",
   "pygments_lexer": "ipython3",
   "version": "3.6.2"
  }
 },
 "nbformat": 4,
 "nbformat_minor": 2
}
