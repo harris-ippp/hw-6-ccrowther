{
 "cells": [
  {
   "cell_type": "code",
   "execution_count": 3,
   "metadata": {},
   "outputs": [],
   "source": [
    "import requests\n",
    "from bs4 import BeautifulSoup as bs\n",
    "import pandas as pd\n",
    "from selenium import webdriver\n",
    "\n",
    "#address to scrape\n",
    "addr = \"http://historical.elections.virginia.gov/elections/search/year_from:1924/year_to:2016/office_id:1/stage:General\"\n",
    "resp = requests.get(addr)\n",
    "html = resp.content\n",
    "soup = bs(html, \"html.parser\")\n",
    "\n",
    "electionID = []\n",
    "temp = []\n",
    "\n",
    "for rows in soup.find_all(['tr', 'td']):\n",
    "    ID = rows.get('id')\n",
    "    year = rows.find('td', {\"class\": \"year first\"})\n",
    "\n",
    "    id_year = [year, ID]\n",
    "\n",
    "    temp.append(id_year)\n",
    "\n",
    "for k in range(0, len(temp)):\n",
    "    if temp[k][0] != None:\n",
    "        electionID.append(temp[k])\n",
    "\n",
    "#print(electionID)"
   ]
  },
  {
   "cell_type": "code",
   "execution_count": 12,
   "metadata": {},
   "outputs": [
    {
     "name": "stdout",
     "output_type": "stream",
     "text": [
      "('2016', '80871')\n",
      "('2012', '44930')\n",
      "('2008', '39050')\n",
      "('2004', '41055')\n",
      "('2000', '39517')\n",
      "('1996', '34787')\n",
      "('1992', '47275')\n",
      "('1988', '48618')\n",
      "('1984', '47846')\n",
      "('1980', '48204')\n",
      "('1976', '48411')\n",
      "('1972', '48591')\n",
      "('1968', '78816')\n",
      "('1964', '78861')\n",
      "('1960', '79121')\n",
      "('1956', '79293')\n",
      "('1952', '79455')\n",
      "('1948', '79419')\n",
      "('1944', '79390')\n",
      "('1940', '79369')\n",
      "('1936', '79343')\n",
      "('1932', '79326')\n",
      "('1928', '79248')\n",
      "('1924', '79250')\n"
     ]
    }
   ],
   "source": [
    "for l in range(0, len(electionID)):\n",
    "    electionID_year = electionID[l][0]\n",
    "    year = electionID_year.text\n",
    "    electionID_id = electionID[l][1].replace(\"election-id-\", \"\")\n",
    "    final_list = (year, electionID_id)\n",
    "    print(final_list)"
   ]
  },
  {
   "cell_type": "code",
   "execution_count": null,
   "metadata": {
    "collapsed": true
   },
   "outputs": [],
   "source": []
  }
 ],
 "metadata": {
  "kernelspec": {
   "display_name": "Python 3",
   "language": "python",
   "name": "python3"
  },
  "language_info": {
   "codemirror_mode": {
    "name": "ipython",
    "version": 3
   },
   "file_extension": ".py",
   "mimetype": "text/x-python",
   "name": "python",
   "nbconvert_exporter": "python",
   "pygments_lexer": "ipython3",
   "version": "3.6.2"
  }
 },
 "nbformat": 4,
 "nbformat_minor": 2
}
